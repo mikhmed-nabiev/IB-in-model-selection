{
 "cells": [
  {
   "cell_type": "code",
   "execution_count": 1,
   "metadata": {
    "colab": {
     "base_uri": "https://localhost:8080/"
    },
    "id": "hOngXtTgC-lk",
    "outputId": "984266a4-9fcf-4f33-eb40-cf04e8f7057c"
   },
   "outputs": [
    {
     "name": "stdout",
     "output_type": "stream",
     "text": [
      "Detected IPython. Loading juliacall extension. See https://juliapy.github.io/PythonCall.jl/stable/compat/#IPython\n"
     ]
    }
   ],
   "source": [
    "import pysr"
   ]
  },
  {
   "cell_type": "code",
   "execution_count": 2,
   "metadata": {
    "id": "6clM2qyeC_ZB"
   },
   "outputs": [],
   "source": [
    "import numpy as np\n",
    "from matplotlib import pyplot as plt\n",
    "from sklearn.datasets import make_circles\n",
    "from sklearn.model_selection import train_test_split\n",
    "from sklearn.metrics import accuracy_score\n",
    "from pysr import PySRRegressor, TemplateExpressionSpec"
   ]
  },
  {
   "cell_type": "code",
   "execution_count": 3,
   "metadata": {},
   "outputs": [],
   "source": [
    "import warnings\n",
    "warnings.filterwarnings('ignore')"
   ]
  },
  {
   "cell_type": "markdown",
   "metadata": {
    "id": "O8YbdZFEO1Gz"
   },
   "source": [
    "# Multitask"
   ]
  },
  {
   "cell_type": "code",
   "execution_count": 4,
   "metadata": {},
   "outputs": [],
   "source": [
    "def custom_loss(dataset_size, n_datasets):\n",
    "    return f\"\"\"\n",
    "    import Pkg\n",
    "    Pkg.add(\"Optim\")\n",
    "    Pkg.add(\"DynamicExpressions\")\n",
    "    \n",
    "    using SymbolicRegression\n",
    "    using Optim\n",
    "    using DynamicExpressions: \n",
    "        count_scalar_constants\n",
    "    \n",
    "    function multitask_loss(tree, dataset:: Dataset{{T, L}}, options)::L where {{T, L}}\n",
    "        function my_eval(tree, x_, y_, params, options)\n",
    "            \n",
    "            id = 1\n",
    "            buf = [tree]\n",
    "    \n",
    "            while !isempty(buf) \n",
    "                elem = pop!(buf)  \n",
    "    \n",
    "                if elem.degree == 0 && elem.constant\n",
    "                    elem.val = params[id]\n",
    "                    id += 1\n",
    "                end\n",
    "            end\n",
    "            \n",
    "            prediction, flag = eval_tree_array(tree, x_, options)\n",
    "            if !flag\n",
    "                return Inf\n",
    "            end\n",
    "            prediction_ = Bool.(prediction .>= 0.5)\n",
    "            y_ = Bool.(y_)\n",
    "            not_accuracy = sum(prediction_ .!= y_) / length(prediction)\n",
    "            \n",
    "            return not_accuracy\n",
    "        end\n",
    "        \n",
    "        num_params = count_scalar_constants(tree)\n",
    "        \n",
    "        if num_params == 0\n",
    "            return L(Inf)\n",
    "        end\n",
    "    \n",
    "        dataset_size = {dataset_size}\n",
    "        n_datasets = {n_datasets}\n",
    "        \n",
    "        datasets = []\n",
    "        for i in 1:n_datasets\n",
    "            X = dataset.X[:, (i - 1) * dataset_size + 1: i * dataset_size]\n",
    "            y = dataset.y[(i - 1) * dataset_size + 1: i * dataset_size]\n",
    "            push!(datasets, (X, y))\n",
    "        end\n",
    "        \n",
    "        total_loss = 0.0\n",
    "        initial_params = ones(num_params)\n",
    "        for subds in datasets        \n",
    "            res = Optim.optimize(p -> my_eval(tree, subds[1], subds[2], p, options), initial_params)\n",
    "            total_loss += Optim.minimum(res)\n",
    "        end\n",
    "        return total_loss\n",
    "    end\n",
    "    \"\"\""
   ]
  },
  {
   "cell_type": "code",
   "execution_count": 5,
   "metadata": {},
   "outputs": [],
   "source": [
    "options = dict(\n",
    "    unary_operators=[\"exp\"],\n",
    "    binary_operators=[\"+\", \"*\"],\n",
    "    model_selection=\"best\"\n",
    ")"
   ]
  },
  {
   "cell_type": "code",
   "execution_count": 9,
   "metadata": {
    "id": "abTZtgozEx6u"
   },
   "outputs": [],
   "source": [
    "n_samples = 100\n",
    "n_datasets = [1, 2, 5, 10, 15]"
   ]
  },
  {
   "cell_type": "code",
   "execution_count": 8,
   "metadata": {},
   "outputs": [
    {
     "name": "stdout",
     "output_type": "stream",
     "text": [
      "Number of datasets: 16\n"
     ]
    }
   ],
   "source": [
    "X_all, y_all = [], [] \n",
    "for i in range(20):\n",
    "    X, y = make_circles(n_samples=n_samples, noise=0.1, factor=0.4)\n",
    "    \n",
    "    if i % 5 == 1:\n",
    "      X[:, 0] += i\n",
    "      X[:, 1] += i\n",
    "    elif i % 5 == 2:\n",
    "      X[:, 0] += i\n",
    "      X[:, 1] -= i\n",
    "    elif i % 5 == 3:\n",
    "      X[:, 0] -= i\n",
    "      X[:, 1] -= i\n",
    "    elif i % 5 == 4:\n",
    "      X[:, 0] -= i\n",
    "      X[:, 1] += i\n",
    "    else:\n",
    "        continue\n",
    "\n",
    "    if len(X_all) == 0:\n",
    "        X_all = X\n",
    "        y_all = y\n",
    "    else:\n",
    "        X_all = np.vstack([X_all, X])\n",
    "        y_all = np.hstack([y_all, y])\n",
    "print(\"Number of datasets:\", X_all.shape[0] // n_samples)"
   ]
  },
  {
   "cell_type": "code",
   "execution_count": 10,
   "metadata": {},
   "outputs": [
    {
     "data": {
      "text/plain": [
       "<matplotlib.collections.PathCollection at 0x75727afb24d0>"
      ]
     },
     "execution_count": 10,
     "metadata": {},
     "output_type": "execute_result"
    },
    {
     "data": {
      "image/png": "[encoded data removed]",
      "text/plain": [
       "<Figure size 640x480 with 1 Axes>"
      ]
     },
     "metadata": {},
     "output_type": "display_data"
    }
   ],
   "source": [
    "plt.scatter(X_all[:, 0], X_all[:, 1], c=y_all)"
   ]
  },
  {
   "cell_type": "code",
   "execution_count": 11,
   "metadata": {},
   "outputs": [
    {
     "name": "stderr",
     "output_type": "stream",
     "text": [
      "   Resolving package versions...\n",
      "  No Changes to `~/.julia/environments/pyjuliapkg/Project.toml`\n",
      "  No Changes to `~/.julia/environments/pyjuliapkg/Manifest.toml`\n",
      "   Resolving package versions...\n",
      "  No Changes to `~/.julia/environments/pyjuliapkg/Project.toml`\n",
      "  No Changes to `~/.julia/environments/pyjuliapkg/Manifest.toml`\n"
     ]
    },
    {
     "name": "stdout",
     "output_type": "stream",
     "text": [
      "Model:  x1*exp(x0*(1.9527245 - 0.98840153*x0) - 1.1814971*x1)\n",
      "Accuracy on 1 datasets: 1.0000\n",
      "------------------------------------------------\n"
     ]
    },
    {
     "name": "stderr",
     "output_type": "stream",
     "text": [
      "   Resolving package versions...\n",
      "  No Changes to `~/.julia/environments/pyjuliapkg/Project.toml`\n",
      "  No Changes to `~/.julia/environments/pyjuliapkg/Manifest.toml`\n",
      "   Resolving package versions...\n",
      "  No Changes to `~/.julia/environments/pyjuliapkg/Project.toml`\n",
      "  No Changes to `~/.julia/environments/pyjuliapkg/Manifest.toml`\n"
     ]
    },
    {
     "name": "stdout",
     "output_type": "stream",
     "text": [
      "Model:  0.43544558*x0*(x1**2 - 2.0481443)*(x1*(x0 - 2.3083427) + 0.5404669)*exp(1.8318808*x0*(x0 + x1))\n",
      "Accuracy on 2 datasets: 0.9850\n",
      "------------------------------------------------\n"
     ]
    },
    {
     "name": "stderr",
     "output_type": "stream",
     "text": [
      "   Resolving package versions...\n",
      "  No Changes to `~/.julia/environments/pyjuliapkg/Project.toml`\n",
      "  No Changes to `~/.julia/environments/pyjuliapkg/Manifest.toml`\n",
      "   Resolving package versions...\n",
      "  No Changes to `~/.julia/environments/pyjuliapkg/Project.toml`\n",
      "  No Changes to `~/.julia/environments/pyjuliapkg/Manifest.toml`\n"
     ]
    },
    {
     "name": "stdout",
     "output_type": "stream",
     "text": [
      "Model:  (x1 + 2.4470067)*(x1*(x0 - 0.9165537*x1) + 1.3153068)*(x0 + x1 - 0.9165537)\n",
      "Accuracy on 5 datasets: 0.7460\n",
      "------------------------------------------------\n"
     ]
    },
    {
     "name": "stderr",
     "output_type": "stream",
     "text": [
      "   Resolving package versions...\n",
      "  No Changes to `~/.julia/environments/pyjuliapkg/Project.toml`\n",
      "  No Changes to `~/.julia/environments/pyjuliapkg/Manifest.toml`\n",
      "   Resolving package versions...\n",
      "  No Changes to `~/.julia/environments/pyjuliapkg/Project.toml`\n",
      "  No Changes to `~/.julia/environments/pyjuliapkg/Manifest.toml`\n"
     ]
    },
    {
     "name": "stdout",
     "output_type": "stream",
     "text": [
      "Model:  (-0.9163269*x0 + x1)*(x1 + (x0 - 0.9163269*x1)*(x0 + x1)**2) + 2.8982387\n",
      "Accuracy on 10 datasets: 0.7870\n",
      "------------------------------------------------\n"
     ]
    },
    {
     "name": "stderr",
     "output_type": "stream",
     "text": [
      "   Resolving package versions...\n",
      "  No Changes to `~/.julia/environments/pyjuliapkg/Project.toml`\n",
      "  No Changes to `~/.julia/environments/pyjuliapkg/Manifest.toml`\n",
      "   Resolving package versions...\n",
      "  No Changes to `~/.julia/environments/pyjuliapkg/Project.toml`\n",
      "  No Changes to `~/.julia/environments/pyjuliapkg/Manifest.toml`\n"
     ]
    },
    {
     "name": "stdout",
     "output_type": "stream",
     "text": [
      "Model:  (x0 + (-1.0032767*x0 + x1)*(x0 - 0.999774*x1)*(x0 + x1 - 0.6585562))*(x0 + x1 + 0.73337114)\n",
      "Accuracy on 15 datasets: 0.8167\n",
      "------------------------------------------------\n"
     ]
    }
   ],
   "source": [
    "models = []\n",
    "accuracies = []\n",
    "\n",
    "for n_dataset in n_datasets:\n",
    "    X_part = X_all[:n_samples * n_dataset, :]\n",
    "    y_part = y_all[:n_samples * n_dataset]\n",
    "\n",
    "    model = PySRRegressor(\n",
    "        niterations=100,\n",
    "        loss_function=custom_loss(dataset_size=n_samples, n_datasets=n_dataset),\n",
    "        verbosity=0,\n",
    "        **options\n",
    "    )\n",
    "\n",
    "    model.fit(X_part, y_part)\n",
    "    print(\"Model: \", model.sympy().simplify())\n",
    "    models.append(model.sympy().simplify())\n",
    "    \n",
    "    y_pred = model.predict(X_part)\n",
    "    y_pred = (y_pred >= 0.5).astype(int)\n",
    "    accuracy = accuracy_score(y_part, y_pred)\n",
    "    accuracies.append(accuracy)\n",
    "    print(f\"Accuracy on {n_dataset} datasets: {accuracy:.4f}\")\n",
    "    print(\"------------------------------------------------\")"
   ]
  },
  {
   "cell_type": "markdown",
   "metadata": {},
   "source": [
    "---"
   ]
  }
 ],
 "metadata": {
  "colab": {
   "collapsed_sections": [
    "USSONBrILxN0",
    "Ql1VaC-zL20J"
   ],
   "provenance": [],
   "toc_visible": true
  },
  "kernelspec": {
   "display_name": "Python 3 (ipykernel)",
   "language": "python",
   "name": "python3"
  },
  "language_info": {
   "codemirror_mode": {
    "name": "ipython",
    "version": 3
   },
   "file_extension": ".py",
   "mimetype": "text/x-python",
   "name": "python",
   "nbconvert_exporter": "python",
   "pygments_lexer": "ipython3",
   "version": "3.10.12"
  }
 },
 "nbformat": 4,
 "nbformat_minor": 4
}
